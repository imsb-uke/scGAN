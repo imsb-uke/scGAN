{
 "cells": [
  {
   "cell_type": "markdown",
   "metadata": {},
   "source": [
    "# Notebook to convert from mtx/tsv format to h5ad"
   ]
  },
  {
   "cell_type": "code",
   "execution_count": null,
   "metadata": {},
   "outputs": [],
   "source": [
    "import logging\n",
    "import anndata\n",
    "try:\n",
    "    import scanpy.api as sc\n",
    "except:\n",
    "    import scanpy as sc\n",
    "    logging.warning(\"scGAN depends on an old version of scanpy (1.2.2)\"\n",
    "              \" but you have '{}' installed, be cautious.\".format(sc.__version__, anndata.__version__))\n",
    "if anndata.__version__.split(\".\")[:2] != [\"0\",\"6\"]:\n",
    "    logging.error(\"scGAN depends on an old version of the anndata format (0.6),\" +\n",
    "              \" but you have '{}'' installed.\".format(anndata.__version__) + \n",
    "              \" This can break scGANs ability to read this file.\")\n",
    "import os\n",
    "import csv"
   ]
  },
  {
   "cell_type": "markdown",
   "metadata": {},
   "source": [
    "## Dataset paths"
   ]
  },
  {
   "cell_type": "code",
   "execution_count": null,
   "metadata": {},
   "outputs": [],
   "source": [
    "dataset_dir = \"/path_to_where_you_saved/Fresh_68k_PBMCs/hg19/\"\n",
    "data_file = \"matrix.mtx\"\n",
    "var_names_file = \"genes.tsv\"\n",
    "obs_names_file = \"barcodes.tsv\"\n",
    "output_h5ad_file = \"68kPBMCs.h5ad\"\n",
    "\n",
    "data_path = os.path.join(dataset_dir,data_file)\n",
    "var_names_path = os.path.join(dataset_dir,var_names_file)\n",
    "obs_names_path = os.path.join(dataset_dir,obs_names_file)\n",
    "output_h5ad_path = os.path.join(dataset_dir,output_h5ad_file)"
   ]
  },
  {
   "cell_type": "markdown",
   "metadata": {},
   "source": [
    "## Loading the variable (gene) names"
   ]
  },
  {
   "cell_type": "code",
   "execution_count": null,
   "metadata": {},
   "outputs": [],
   "source": [
    "with open(var_names_path, \"r\") as var_file:\n",
    "    var_read = csv.reader(var_file, delimiter='\\t')\n",
    "    var_names = []\n",
    "    for row in var_read:\n",
    "        print(row)\n",
    "        var_names.append(row[1])\n",
    "\n"
   ]
  },
  {
   "cell_type": "markdown",
   "metadata": {},
   "source": [
    "## Loading the observations (UMI) names"
   ]
  },
  {
   "cell_type": "code",
   "execution_count": null,
   "metadata": {},
   "outputs": [],
   "source": [
    "with open(obs_names_path, \"r\") as obs_file:\n",
    "    obs_read = csv.reader(obs_file, delimiter='\\t')\n",
    "    obs_names = []\n",
    "    for row in obs_read:\n",
    "        #print(row)\n",
    "        obs_names.append(row[0])"
   ]
  },
  {
   "cell_type": "markdown",
   "metadata": {},
   "source": [
    "## Loading the data (can take a while) and transpose it (10xgenomics has different convention than AnnData)"
   ]
  },
  {
   "cell_type": "code",
   "execution_count": null,
   "metadata": {},
   "outputs": [],
   "source": [
    "andata = sc.read(data_path) \n",
    "andata = andata.transpose()"
   ]
  },
  {
   "cell_type": "markdown",
   "metadata": {},
   "source": [
    "## Loading the variable and observation names (and make them unique) into the AnnData"
   ]
  },
  {
   "cell_type": "code",
   "execution_count": null,
   "metadata": {},
   "outputs": [],
   "source": [
    "andata.var_names = var_names\n",
    "andata.var_names_make_unique()\n",
    "andata.obs_names = obs_names\n",
    "andata.obs_names_make_unique()"
   ]
  },
  {
   "cell_type": "markdown",
   "metadata": {},
   "source": [
    "## Write the AnnData into a h5ad file"
   ]
  },
  {
   "cell_type": "code",
   "execution_count": null,
   "metadata": {},
   "outputs": [],
   "source": [
    "andata.write(filename=output_h5ad_path)"
   ]
  }
 ],
 "metadata": {
  "kernelspec": {
   "display_name": "Python 3",
   "language": "python",
   "name": "python3"
  },
  "language_info": {
   "codemirror_mode": {
    "name": "ipython",
    "version": 3
   },
   "file_extension": ".py",
   "mimetype": "text/x-python",
   "name": "python",
   "nbconvert_exporter": "python",
   "pygments_lexer": "ipython3",
   "version": "3.5.10"
  }
 },
 "nbformat": 4,
 "nbformat_minor": 2
}
